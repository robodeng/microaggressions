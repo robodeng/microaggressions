{
 "cells": [
  {
   "cell_type": "code",
   "execution_count": 1,
   "metadata": {},
   "outputs": [
    {
     "name": "stderr",
     "output_type": "stream",
     "text": [
      "/Library/Frameworks/Python.framework/Versions/3.6/lib/python3.6/site-packages/nltk/twitter/__init__.py:20: UserWarning: The twython library has not been installed. Some functionality from the twitter package will not be available.\n",
      "  warnings.warn(\"The twython library has not been installed. \"\n",
      "/Library/Frameworks/Python.framework/Versions/3.6/lib/python3.6/site-packages/h5py/__init__.py:36: FutureWarning: Conversion of the second argument of issubdtype from `float` to `np.floating` is deprecated. In future, it will be treated as `np.float64 == np.dtype(float).type`.\n",
      "  from ._conv import register_converters as _register_converters\n",
      "Using TensorFlow backend.\n"
     ]
    }
   ],
   "source": [
    "# This tells matplotlib not to try opening a new window for each plot.\n",
    "%matplotlib inline\n",
    "\n",
    "# General libraries.\n",
    "import re\n",
    "import numpy as np\n",
    "import matplotlib.pyplot as plt\n",
    "from sklearn.linear_model import LogisticRegression\n",
    "from sklearn.model_selection import train_test_split\n",
    "from sklearn.naive_bayes import MultinomialNB\n",
    "from sklearn.naive_bayes import GaussianNB\n",
    "from sklearn.feature_extraction.text import *\n",
    "from sklearn.pipeline import Pipeline\n",
    "from sklearn.ensemble import RandomForestClassifier\n",
    "from sklearn.ensemble import AdaBoostClassifier\n",
    "from sklearn.multiclass import OneVsRestClassifier\n",
    "from sklearn.svm import LinearSVC\n",
    "\n",
    "\n",
    "import pandas as pd\n",
    "from pandas.tseries.holiday import USFederalHolidayCalendar\n",
    "\n",
    "# ADD METRICS\n",
    "from sklearn import metrics\n",
    "from sklearn.metrics import roc_auc_score\n",
    "from sklearn.metrics import accuracy_score\n",
    "from sklearn.metrics import classification_report\n",
    "\n",
    "#NLTK - NLP Tokenizing and Cleaning\n",
    "import nltk\n",
    "from nltk import pos_tag, pos_tag_sents\n",
    "from nltk.tokenize import word_tokenize, sent_tokenize\n",
    "from nltk.corpus import stopwords\n",
    "from nltk.corpus import wordnet\n",
    "from nltk.stem import WordNetLemmatizer\n",
    "from nltk.sentiment.vader import SentimentIntensityAnalyzer\n",
    "\n",
    "#GMM\n",
    "from sklearn.decomposition import PCA\n",
    "\n",
    "import sys, os, re, csv, codecs, numpy as np, pandas as pd\n",
    "import matplotlib.pyplot as plt\n",
    "from IPython.core.display import display, HTML\n",
    "from keras.preprocessing.text import Tokenizer\n",
    "from keras.preprocessing.sequence import pad_sequences\n",
    "from keras.layers import Dense, Input, LSTM, Embedding, Dropout, Activation\n",
    "from keras.layers import Bidirectional, GlobalMaxPool1D\n",
    "from keras.models import Model\n",
    "from keras import initializers, regularizers, constraints, optimizers, layers\n"
   ]
  },
  {
   "cell_type": "code",
   "execution_count": 3,
   "metadata": {
    "scrolled": true
   },
   "outputs": [],
   "source": [
    "data = pd.read_json(\"microaggressions-modified.json\")\n",
    "#clean_tags\n",
    "data.tags = data.tags.str.join(\"|\").apply(lambda x: re.sub(r'3yearsago|acces|beauty|colonialism|discussion|education|eurocentricism|eurocentrism|event|everything|family|faq|hair|institutional|internalization|macro|\\bmarriage\\b|marriagestatus|meta|orientalism|patriarchy|queer|reblog|reflection|region|relationship|resistance|school|west|\\body|\\*', r'', x))\\\n",
    ".apply(lambda y: re.sub(r'Skin Tone|citizenship|ethnicity|language|nationality|racism|skin tone', r'race', y))\\\n",
    ".apply(lambda z: re.sub(r\"ability|ableism|invisibility|invisible\", r\"disability\",z))\\\n",
    ".apply(lambda a: re.sub(r\"Mind|mind|neurodiversity\",r\"mental health\",a))\\\n",
    ".apply(lambda b: re.sub(r\"immigrant status|immigration status\", r\"immigration\",b))\\\n",
    ".apply(lambda c: re.sub(r\"Sexuality|\\bsex\\b|sexism\", r\"sexuality\",c))\\\n",
    ".apply(lambda d: re.sub(r\"genderqueer|trans\", r\"gender\",d))\\\n",
    ".apply(lambda e: re.sub(r\"Survivor|submission|surivor|survivor\", r\"sexual assault\",e))\n",
    "data = pd.concat([data, data['tags'].str.get_dummies()], axis = 1)"
   ]
  },
  {
   "cell_type": "code",
   "execution_count": 4,
   "metadata": {},
   "outputs": [],
   "source": [
    "#Rows with empty values either in the tags or the text and reindex\n",
    "bad_indices = list(set(np.where(data[[\"tags\", \"text\"]] == \"\")[0]))\n",
    "data.drop(data.index[bad_indices], inplace = True)\n",
    "data = data.reset_index(drop=True)"
   ]
  },
  {
   "cell_type": "code",
   "execution_count": 5,
   "metadata": {
    "scrolled": false
   },
   "outputs": [
    {
     "data": {
      "text/html": [
       "<div>\n",
       "<style scoped>\n",
       "    .dataframe tbody tr th:only-of-type {\n",
       "        vertical-align: middle;\n",
       "    }\n",
       "\n",
       "    .dataframe tbody tr th {\n",
       "        vertical-align: top;\n",
       "    }\n",
       "\n",
       "    .dataframe thead th {\n",
       "        text-align: right;\n",
       "    }\n",
       "</style>\n",
       "<table border=\"1\" class=\"dataframe\">\n",
       "  <thead>\n",
       "    <tr style=\"text-align: right;\">\n",
       "      <th></th>\n",
       "      <th>Classes</th>\n",
       "      <th>#Microagressions</th>\n",
       "    </tr>\n",
       "  </thead>\n",
       "  <tbody>\n",
       "    <tr>\n",
       "      <th>0</th>\n",
       "      <td>age</td>\n",
       "      <td>34</td>\n",
       "    </tr>\n",
       "    <tr>\n",
       "      <th>1</th>\n",
       "      <td>body</td>\n",
       "      <td>226</td>\n",
       "    </tr>\n",
       "    <tr>\n",
       "      <th>2</th>\n",
       "      <td>class</td>\n",
       "      <td>232</td>\n",
       "    </tr>\n",
       "    <tr>\n",
       "      <th>3</th>\n",
       "      <td>disability</td>\n",
       "      <td>114</td>\n",
       "    </tr>\n",
       "    <tr>\n",
       "      <th>4</th>\n",
       "      <td>gender</td>\n",
       "      <td>1569</td>\n",
       "    </tr>\n",
       "    <tr>\n",
       "      <th>5</th>\n",
       "      <td>immigration</td>\n",
       "      <td>33</td>\n",
       "    </tr>\n",
       "    <tr>\n",
       "      <th>6</th>\n",
       "      <td>mental health</td>\n",
       "      <td>33</td>\n",
       "    </tr>\n",
       "    <tr>\n",
       "      <th>7</th>\n",
       "      <td>race</td>\n",
       "      <td>1665</td>\n",
       "    </tr>\n",
       "    <tr>\n",
       "      <th>8</th>\n",
       "      <td>religion</td>\n",
       "      <td>114</td>\n",
       "    </tr>\n",
       "    <tr>\n",
       "      <th>9</th>\n",
       "      <td>sexual assault</td>\n",
       "      <td>98</td>\n",
       "    </tr>\n",
       "    <tr>\n",
       "      <th>10</th>\n",
       "      <td>sexuality</td>\n",
       "      <td>638</td>\n",
       "    </tr>\n",
       "  </tbody>\n",
       "</table>\n",
       "</div>"
      ],
      "text/plain": [
       "           Classes  #Microagressions\n",
       "0              age                34\n",
       "1             body               226\n",
       "2            class               232\n",
       "3       disability               114\n",
       "4           gender              1569\n",
       "5      immigration                33\n",
       "6    mental health                33\n",
       "7             race              1665\n",
       "8         religion               114\n",
       "9   sexual assault                98\n",
       "10       sexuality               638"
      ]
     },
     "execution_count": 5,
     "metadata": {},
     "output_type": "execute_result"
    }
   ],
   "source": [
    "data_classes = data\n",
    "counts = []\n",
    "categories = list(data.columns[2:].values)\n",
    "for i in categories:\n",
    "    counts.append((i, data[i].sum()))\n",
    "data_stats = pd.DataFrame(counts, columns=['Classes', '#Microagressions'])\n",
    "data_stats\n"
   ]
  },
  {
   "cell_type": "code",
   "execution_count": 6,
   "metadata": {},
   "outputs": [
    {
     "data": {
      "image/png": "[encoded data removed]",
      "text/plain": [
       "<Figure size 1080x720 with 1 Axes>"
      ]
     },
     "metadata": {},
     "output_type": "display_data"
    }
   ],
   "source": [
    "fig, ax = plt.subplots(figsize=(15, 10))\n",
    "\n",
    "bar_width = 0.5\n",
    "opacity = 0.6\n",
    "labels = data_stats[\"#Microagressions\"]\n",
    "\n",
    "rects1 = plt.bar(data_stats[\"Classes\"], data_stats[\"#Microagressions\"], bar_width,\n",
    "                 alpha=opacity,\n",
    "                 color='indigo',\n",
    "                 label='Classes')\n",
    "plt.xlabel('Classes')\n",
    "plt.ylabel('#Microaggressions')\n",
    "plt.title('Microagression Classes')\n",
    "plt.xticks(np.arange(len(data_stats[\"Classes\"])), data_stats[\"Classes\"], rotation='vertical')\n",
    "plt.legend()\n",
    "\n",
    "\n",
    "for rect, label in zip(rects1, labels):\n",
    "    height = rect.get_height()\n",
    "    ax.text(rect.get_x() + rect.get_width() / 2, height + 5, label,\n",
    "            ha='center', va='bottom', rotation = 45)"
   ]
  },
  {
   "cell_type": "code",
   "execution_count": 105,
   "metadata": {
    "scrolled": false
   },
   "outputs": [],
   "source": [
    "#preprocessing\n",
    "def nltk_preprocess(data):\n",
    "    '''This function preprocesses a data frame, specifing a text_column, \n",
    "    and strips down the document to cleaned, individualized word tokens without\n",
    "    stop words and other excessive parts of speech and eventually rejoins the remaining words.\n",
    "    '''\n",
    "    #Initializes stop words and new column creation\n",
    "    stop = stopwords.words('english')\n",
    "    \n",
    "    \n",
    "    #Initialize Lemmatizer object and final list of lemmatized words\n",
    "    lemmatizer = WordNetLemmatizer()\n",
    "    \n",
    "    def get_wordnet_pos(treebank_tag):\n",
    "        if treebank_tag.startswith('J'):\n",
    "            return wordnet.ADJ\n",
    "        elif treebank_tag.startswith('V'):\n",
    "            return wordnet.VERB\n",
    "        elif treebank_tag.startswith('N'):\n",
    "            return wordnet.NOUN\n",
    "        elif treebank_tag.startswith('R'):\n",
    "            return wordnet.ADV\n",
    "        else:\n",
    "            return None # for easy if-statement\n",
    "        \n",
    "    def lemmatized(word, tag):\n",
    "        wntag = get_wordnet_pos(tag)\n",
    "        if wntag is None:\n",
    "            lemma = str(lemmatizer.lemmatize(word))\n",
    "        else:\n",
    "            lemma = str(lemmatizer.lemmatize(word, pos=wntag))\n",
    "        return lemma\n",
    "\n",
    "    data = data.apply(lambda x: re.sub(r'\\d+', r' ', x)).apply(lambda y: re.sub(r'\\W+', r' ', y)).apply(lambda z: re.sub(r\"_+\",r\" \",z))\n",
    "    data = data.str.lower()\n",
    "    data = data.apply(word_tokenize)\n",
    "    data = data.apply(lambda x: [item for item in x if item not in stop])\n",
    "    data = data.apply(pos_tag)\n",
    "    data = data.apply(lambda x: [lemmatized(word, tag) for (word, tag) in x])\n",
    "    data = data.apply(lambda x: ' '.join(x))\n",
    "    return data\n",
    "\n",
    "data[\"text\"] = nltk_preprocess(data[\"text\"])"
   ]
  },
  {
   "cell_type": "code",
   "execution_count": 106,
   "metadata": {
    "scrolled": false
   },
   "outputs": [
    {
     "name": "stdout",
     "output_type": "stream",
     "text": [
      "Train shapes 85% (2105,) (2105, 11)\n",
      "Dev shapes 5% (464,) (464, 11)\n",
      "Test shapes 10% (940,) (940, 11)\n",
      "No intersections: [] [] []\n"
     ]
    }
   ],
   "source": [
    "#train, test, train, test = train_test_split(data, y, test_size=0.2)\n",
    "train, test, train_labels, test_labels = train_test_split(data.iloc[:, 1],data.iloc[:,2:],test_size=0.40,train_size=0.60, stratify = data[\"race\"])\n",
    "test, dev, test_labels, dev_labels = train_test_split(test,test_labels, test_size = 0.33, train_size =0.67, stratify = test_labels[\"race\"])\n",
    "print(\"Train shapes 85%\", train.shape, train_labels.shape)\n",
    "print(\"Dev shapes 5%\", dev.shape, dev_labels.shape)\n",
    "print(\"Test shapes 10%\", test.shape, test_labels.shape)\n",
    "print(\"No intersections:\", np.intersect1d(dev.index, train.index), np.intersect1d(test.index, train.index), np.intersect1d(test.index, dev.index))"
   ]
  },
  {
   "cell_type": "code",
   "execution_count": 107,
   "metadata": {},
   "outputs": [],
   "source": [
    "train = train.reset_index().drop(['index'], axis=1)\n",
    "train_labels = train_labels.reset_index().drop(['index'], axis=1)\n",
    "dev = dev.reset_index().drop(['index'], axis=1)\n",
    "dev_labels = dev_labels.reset_index().drop(['index'], axis=1)\n",
    "test = test.reset_index().drop(['index'], axis=1)\n",
    "test_labels = test_labels.reset_index().drop(['index'], axis=1)"
   ]
  },
  {
   "cell_type": "code",
   "execution_count": 12,
   "metadata": {},
   "outputs": [
    {
     "name": "stdout",
     "output_type": "stream",
     "text": [
      "... Processing age\n",
      "Test accuracy is 0.9892241379310345\n",
      "... Processing body\n",
      "Test accuracy is 0.9375\n",
      "... Processing class\n",
      "Test accuracy is 0.9547413793103449\n",
      "... Processing disability\n",
      "Test accuracy is 0.9633620689655172\n",
      "... Processing gender\n",
      "Test accuracy is 0.7672413793103449\n",
      "... Processing immigration\n",
      "Test accuracy is 0.9870689655172413\n",
      "... Processing mental health\n",
      "Test accuracy is 0.9849137931034483\n",
      "... Processing race\n",
      "Test accuracy is 0.8771551724137931\n",
      "... Processing religion\n",
      "Test accuracy is 0.9698275862068966\n",
      "... Processing sexual assault\n",
      "Test accuracy is 0.9806034482758621\n",
      "... Processing sexuality\n",
      "Test accuracy is 0.8879310344827587\n"
     ]
    }
   ],
   "source": [
    "pipe1 = Pipeline([('cv', CountVectorizer(min_df=.02, max_df=.3, ngram_range=(1,3))),\n",
    "                  ('tfidf', TfidfTransformer()),\n",
    "                  ('clf', OneVsRestClassifier(MultinomialNB()))])\n",
    "\n",
    "#categories = list(data.columns[2:].values) <- refresher for categories\n",
    "for category in categories:\n",
    "    print('... Processing {}'.format(category))\n",
    "    # train the model using X_dtm & y\n",
    "    pipe1.fit(train, train_labels[category])\n",
    "    # compute the testing accuracy\n",
    "    prediction = pipe1.predict(dev)\n",
    "    print('Test accuracy is {}'.format(accuracy_score(dev_labels[category], prediction)))"
   ]
  },
  {
   "cell_type": "code",
   "execution_count": 13,
   "metadata": {},
   "outputs": [
    {
     "name": "stdout",
     "output_type": "stream",
     "text": [
      "... Processing age\n",
      "Test accuracy is 0.9892241379310345\n",
      "... Processing body\n",
      "Test accuracy is 0.9396551724137931\n",
      "... Processing class\n",
      "Test accuracy is 0.9461206896551724\n",
      "... Processing disability\n",
      "Test accuracy is 0.9655172413793104\n",
      "... Processing gender\n",
      "Test accuracy is 0.7780172413793104\n",
      "... Processing immigration\n",
      "Test accuracy is 0.9870689655172413\n",
      "... Processing mental health\n",
      "Test accuracy is 0.9849137931034483\n",
      "... Processing race\n",
      "Test accuracy is 0.8836206896551724\n",
      "... Processing religion\n",
      "Test accuracy is 0.9698275862068966\n",
      "... Processing sexual assault\n",
      "Test accuracy is 0.9806034482758621\n",
      "... Processing sexuality\n",
      "Test accuracy is 0.9245689655172413\n"
     ]
    }
   ],
   "source": [
    "pipe2 = Pipeline([('cv', CountVectorizer(min_df=.02, max_df=.3, ngram_range=(1,3))),\n",
    "                  ('tfidf', TfidfTransformer()),\n",
    "                  ('clf', OneVsRestClassifier(LinearSVC()))])\n",
    "\n",
    "#categories = list(data.columns[2:].values) <- refresher for categories\n",
    "for category in categories:\n",
    "    print('... Processing {}'.format(category))\n",
    "    # train the model using X_dtm & y\n",
    "    pipe2.fit(train, train_labels[category])\n",
    "    # compute the testing accuracy\n",
    "    prediction = pipe2.predict(dev)\n",
    "    print('Test accuracy is {}'.format(accuracy_score(dev_labels[category], prediction)))"
   ]
  },
  {
   "cell_type": "code",
   "execution_count": 14,
   "metadata": {},
   "outputs": [
    {
     "name": "stdout",
     "output_type": "stream",
     "text": [
      "... Processing age\n",
      "Test accuracy is 0.8663793103448276\n",
      "... Processing body\n",
      "Test accuracy is 0.8232758620689655\n",
      "... Processing class\n",
      "Test accuracy is 0.8318965517241379\n",
      "... Processing disability\n",
      "Test accuracy is 0.8405172413793104\n",
      "... Processing gender\n",
      "Test accuracy is 0.5775862068965517\n",
      "... Processing immigration\n",
      "Test accuracy is 0.8642241379310345\n",
      "... Processing mental health\n",
      "Test accuracy is 0.8620689655172413\n",
      "... Processing race\n",
      "Test accuracy is 0.41163793103448276\n",
      "... Processing religion\n",
      "Test accuracy is 0.8512931034482759\n",
      "... Processing sexual assault\n",
      "Test accuracy is 0.8577586206896551\n",
      "... Processing sexuality\n",
      "Test accuracy is 0.9245689655172413\n"
     ]
    }
   ],
   "source": [
    "pipe3 = Pipeline([('cv', CountVectorizer(min_df=.02, max_df=.3, ngram_range=(1,3))),\n",
    "                  ('tfidf', TfidfTransformer()),\n",
    "                  ('clf', OneVsRestClassifier(LogisticRegression()))])\n",
    "\n",
    "#categories = list(data.columns[2:].values) <- refresher for categories\n",
    "for category in categories:\n",
    "    print('... Processing {}'.format(category))\n",
    "    # train the model using X_dtm & y\n",
    "    pipe3.fit(train, train_labels[category])\n",
    "    # compute the testing accuracy\n",
    "    prediction = pipe2.predict(dev)\n",
    "    print('Test accuracy is {}'.format(accuracy_score(dev_labels[category], prediction)))"
   ]
  },
  {
   "cell_type": "code",
   "execution_count": 15,
   "metadata": {},
   "outputs": [
    {
     "name": "stdout",
     "output_type": "stream",
     "text": [
      "                precision    recall  f1-score   support\n",
      "\n",
      "           age       0.00      0.00      0.00         0\n",
      "          body       0.00      0.00      0.00         0\n",
      "         class       0.00      0.00      0.00         0\n",
      "    disability       0.00      0.00      0.00         0\n",
      "        gender       0.65      0.77      0.70       356\n",
      "   immigration       0.00      0.00      0.00         0\n",
      " mental health       0.00      0.00      0.00         0\n",
      "          race       0.80      0.92      0.86       390\n",
      "      religion       0.00      0.00      0.00         0\n",
      "sexual assault       0.00      0.00      0.00         0\n",
      "     sexuality       0.37      0.97      0.54        69\n",
      "\n",
      "   avg / total       0.70      0.86      0.76       815\n",
      "\n"
     ]
    },
    {
     "name": "stderr",
     "output_type": "stream",
     "text": [
      "/Library/Frameworks/Python.framework/Versions/3.6/lib/python3.6/site-packages/sklearn/metrics/classification.py:1137: UndefinedMetricWarning: Recall and F-score are ill-defined and being set to 0.0 in labels with no true samples.\n",
      "  'recall', 'true', average, warn_for)\n"
     ]
    }
   ],
   "source": [
    "pipe1.fit(train, train_labels)\n",
    "pipe2.fit(train, train_labels)\n",
    "pipe3.fit(train, train_labels)\n",
    "\n",
    "pipe_pred_1 = pipe1.predict(test)\n",
    "print(classification_report(pipe_pred_1, test_labels, target_names = categories))"
   ]
  },
  {
   "cell_type": "code",
   "execution_count": 16,
   "metadata": {},
   "outputs": [
    {
     "name": "stdout",
     "output_type": "stream",
     "text": [
      "                precision    recall  f1-score   support\n",
      "\n",
      "           age       0.00      0.00      0.00         0\n",
      "          body       0.00      0.00      0.00         1\n",
      "         class       0.12      0.62      0.21        13\n",
      "    disability       0.03      0.33      0.05         3\n",
      "        gender       0.69      0.77      0.73       380\n",
      "   immigration       0.00      0.00      0.00         0\n",
      " mental health       0.00      0.00      0.00         0\n",
      "          race       0.80      0.93      0.86       383\n",
      "      religion       0.00      0.00      0.00         1\n",
      "sexual assault       0.00      0.00      0.00         0\n",
      "     sexuality       0.55      0.91      0.69       109\n",
      "\n",
      "   avg / total       0.71      0.85      0.77       890\n",
      "\n"
     ]
    },
    {
     "name": "stderr",
     "output_type": "stream",
     "text": [
      "/Library/Frameworks/Python.framework/Versions/3.6/lib/python3.6/site-packages/sklearn/metrics/classification.py:1137: UndefinedMetricWarning: Recall and F-score are ill-defined and being set to 0.0 in labels with no true samples.\n",
      "  'recall', 'true', average, warn_for)\n"
     ]
    }
   ],
   "source": [
    "pipe_pred_2 = pipe2.predict(test)\n",
    "print(classification_report(pipe_pred_2, test_labels, target_names = categories))"
   ]
  },
  {
   "cell_type": "code",
   "execution_count": 17,
   "metadata": {},
   "outputs": [
    {
     "name": "stdout",
     "output_type": "stream",
     "text": [
      "                precision    recall  f1-score   support\n",
      "\n",
      "           age       0.00      0.00      0.00         0\n",
      "          body       0.00      0.00      0.00         1\n",
      "         class       0.05      1.00      0.09         3\n",
      "    disability       0.00      0.00      0.00         0\n",
      "        gender       0.70      0.81      0.75       365\n",
      "   immigration       0.00      0.00      0.00         0\n",
      " mental health       0.00      0.00      0.00         0\n",
      "          race       0.78      0.94      0.85       371\n",
      "      religion       0.00      0.00      0.00         0\n",
      "sexual assault       0.00      0.00      0.00         0\n",
      "     sexuality       0.48      0.96      0.64        90\n",
      "\n",
      "   avg / total       0.71      0.88      0.78       830\n",
      "\n"
     ]
    },
    {
     "name": "stderr",
     "output_type": "stream",
     "text": [
      "/Library/Frameworks/Python.framework/Versions/3.6/lib/python3.6/site-packages/sklearn/metrics/classification.py:1137: UndefinedMetricWarning: Recall and F-score are ill-defined and being set to 0.0 in labels with no true samples.\n",
      "  'recall', 'true', average, warn_for)\n"
     ]
    }
   ],
   "source": [
    "pipe_pred_3 = pipe3.predict(test)\n",
    "print(classification_report(pipe_pred_3, test_labels, target_names = categories))"
   ]
  },
  {
   "cell_type": "code",
   "execution_count": 18,
   "metadata": {},
   "outputs": [
    {
     "name": "stderr",
     "output_type": "stream",
     "text": [
      "/Library/Frameworks/Python.framework/Versions/3.6/lib/python3.6/site-packages/h5py/__init__.py:36: FutureWarning: Conversion of the second argument of issubdtype from `float` to `np.floating` is deprecated. In future, it will be treated as `np.float64 == np.dtype(float).type`.\n",
      "  from ._conv import register_converters as _register_converters\n",
      "Using TensorFlow backend.\n"
     ]
    }
   ],
   "source": [
    "import pandas as pd\n",
    "import numpy as np\n",
    "import re\n",
    "import csv\n",
    "import os\n",
    "import tensorflow as tf\n",
    "import nltk\n",
    "import gc\n",
    "from keras.preprocessing import text, sequence\n",
    "from sklearn.model_selection import train_test_split\n",
    "from collections import Counter"
   ]
  },
  {
   "cell_type": "code",
   "execution_count": 19,
   "metadata": {},
   "outputs": [],
   "source": [
    "def get_coefs(word, *arr): \n",
    "    return word, np.asarray(arr, dtype='float32')\n",
    "\n",
    "embeddings_index = dict(get_coefs(*o.rstrip().rsplit(' ')) for o in open('/Users/robertdeng/Google Drive/Data Science/W266/allie/crawl-300d-2M.vec'))\n",
    "del embeddings_index['2000000']"
   ]
  },
  {
   "cell_type": "code",
   "execution_count": 21,
   "metadata": {},
   "outputs": [
    {
     "data": {
      "text/plain": [
       "1999999"
      ]
     },
     "execution_count": 21,
     "metadata": {},
     "output_type": "execute_result"
    }
   ],
   "source": [
    "len(embeddings_index) "
   ]
  },
  {
   "cell_type": "code",
   "execution_count": 25,
   "metadata": {},
   "outputs": [],
   "source": [
    "max_features = 100000\n",
    "maxlen = 180"
   ]
  },
  {
   "cell_type": "code",
   "execution_count": 64,
   "metadata": {},
   "outputs": [
    {
     "data": {
      "image/png": "[encoded data removed]",
      "text/plain": [
       "<Figure size 432x288 with 1 Axes>"
      ]
     },
     "metadata": {},
     "output_type": "display_data"
    }
   ],
   "source": [
    "plt.hist([len(i) for i in data.text], bins=100)\n",
    "plt.ylabel('Max Length Histogram');"
   ]
  },
  {
   "cell_type": "code",
   "execution_count": 65,
   "metadata": {
    "scrolled": true
   },
   "outputs": [
    {
     "name": "stdout",
     "output_type": "stream",
     "text": [
      "175.3807352522086 3083\n"
     ]
    }
   ],
   "source": [
    "print(np.mean([len(i) for i in data.text]), max([len(i) for i in data.text]))"
   ]
  },
  {
   "cell_type": "code",
   "execution_count": 77,
   "metadata": {},
   "outputs": [
    {
     "data": {
      "text/plain": [
       "6409"
      ]
     },
     "execution_count": 77,
     "metadata": {},
     "output_type": "execute_result"
    }
   ],
   "source": [
    "#Create the dictionary whose keys contains all words in train dataset that also shown \n",
    "#in FastText word embeddings.\n",
    "lst = []\n",
    "for line in train[\"text\"]:\n",
    "    lst += line.split()\n",
    "    \n",
    "count = Counter(lst)\n",
    "for k in list(count.keys()):\n",
    "    if k not in embeddings_index:\n",
    "        del count[k]\n",
    "        \n",
    "len(count)"
   ]
  },
  {
   "cell_type": "code",
   "execution_count": 78,
   "metadata": {},
   "outputs": [
    {
     "data": {
      "text/plain": [
       "3662"
      ]
     },
     "execution_count": 78,
     "metadata": {},
     "output_type": "execute_result"
    }
   ],
   "source": [
    "count = dict(sorted(count.items(), key=lambda x: -x[1]))\n",
    "count = {k:v for (k,v) in count.items() if v >= 2}\n",
    "len(count)"
   ]
  },
  {
   "cell_type": "code",
   "execution_count": 79,
   "metadata": {},
   "outputs": [],
   "source": [
    "count = dict(zip(list(count.keys()),range(1,64349 + 1)))\n",
    "embedding_matrix = {}\n",
    "for key in count:\n",
    "    embedding_matrix[key] = embeddings_index[key]"
   ]
  },
  {
   "cell_type": "code",
   "execution_count": 80,
   "metadata": {},
   "outputs": [
    {
     "data": {
      "text/plain": [
       "(3663, 300)"
      ]
     },
     "execution_count": 80,
     "metadata": {},
     "output_type": "execute_result"
    }
   ],
   "source": [
    "W = np.zeros((1,300))\n",
    "W = np.append(W, np.array(list(embedding_matrix.values())),axis=0)\n",
    "W = W.astype(np.float32, copy=False)\n",
    "W.shape"
   ]
  },
  {
   "cell_type": "code",
   "execution_count": 81,
   "metadata": {},
   "outputs": [],
   "source": [
    "#Same Step for text dataset.\n",
    "lst = []\n",
    "for line in test[\"text\"]:\n",
    "    lst += line.split()\n",
    "    \n",
    "count_test = Counter(lst)\n",
    "for k in list(count_test.keys()):\n",
    "    if k not in embedding_matrix:\n",
    "        del count_test[k]\n",
    "    else:\n",
    "        count_test[k] = count[k]"
   ]
  },
  {
   "cell_type": "code",
   "execution_count": 82,
   "metadata": {},
   "outputs": [
    {
     "data": {
      "text/plain": [
       "9652"
      ]
     },
     "execution_count": 82,
     "metadata": {},
     "output_type": "execute_result"
    }
   ],
   "source": [
    "len(count_test)\n",
    "#Release Memory\n",
    "del lst\n",
    "gc.collect()"
   ]
  },
  {
   "cell_type": "code",
   "execution_count": 108,
   "metadata": {
    "scrolled": false
   },
   "outputs": [],
   "source": [
    "for i in range(len(train)):\n",
    "    temp = train.iloc[i, 0].split()\n",
    "    for word in temp[:]:\n",
    "        if word not in count:\n",
    "            temp.remove(word)\n",
    "    for j in range(len(temp)):\n",
    "        temp[j] = count[temp[j]]\n",
    "    train.iloc[i, 0] = temp"
   ]
  },
  {
   "cell_type": "code",
   "execution_count": 109,
   "metadata": {},
   "outputs": [],
   "source": [
    "for i in range(len(test)):\n",
    "    temp = test.iloc[i, 0].split()\n",
    "    for word in temp[:]:\n",
    "        if word not in count_test:\n",
    "            temp.remove(word)\n",
    "    for j in range(len(temp)):\n",
    "        temp[j] = count_test[temp[j]]\n",
    "    test.iloc[i, 0] = temp"
   ]
  },
  {
   "cell_type": "code",
   "execution_count": 111,
   "metadata": {},
   "outputs": [],
   "source": [
    "#Pad sequence to max length parameter\n",
    "train_x = sequence.pad_sequences(list(train[\"text\"]), maxlen = maxlen)\n",
    "test_x = sequence.pad_sequences(list(test[\"text\"]), maxlen = maxlen)"
   ]
  },
  {
   "cell_type": "code",
   "execution_count": null,
   "metadata": {},
   "outputs": [],
   "source": [
    "del embeddings_index\n",
    "gc.collect()"
   ]
  },
  {
   "cell_type": "markdown",
   "metadata": {},
   "source": [
    "**CNN Placeholder & Model Construction**"
   ]
  },
  {
   "cell_type": "code",
   "execution_count": 112,
   "metadata": {},
   "outputs": [],
   "source": [
    "filter_sizes = [1,2,3,4,5]\n",
    "num_filters = 32\n",
    "batch_size = 256\n",
    "#This large batch_size is specially for this case. Usually it is between 64-128.\n",
    "num_filters_total = num_filters * len(filter_sizes)\n",
    "embedding_size = 300\n",
    "sequence_length = 170\n",
    "num_epochs = 3 #Depends on your choice.\n",
    "dropout_keep_prob = 0.9"
   ]
  },
  {
   "cell_type": "code",
   "execution_count": 113,
   "metadata": {},
   "outputs": [],
   "source": [
    "input_x = tf.placeholder(tf.int32, [None, sequence_length], name = \"input_x\")\n",
    "input_y = tf.placeholder(tf.float32, [None,6], name = \"input_y\") "
   ]
  },
  {
   "cell_type": "code",
   "execution_count": 114,
   "metadata": {},
   "outputs": [],
   "source": [
    "embedded_chars = tf.nn.embedding_lookup(W, input_x)\n",
    "embedded_chars_expanded = tf.expand_dims(embedded_chars, -1)"
   ]
  },
  {
   "cell_type": "code",
   "execution_count": 115,
   "metadata": {},
   "outputs": [],
   "source": [
    "def CNN(data):\n",
    "    pooled_outputs = []\n",
    "    \n",
    "    for i, filter_size in enumerate(filter_sizes):\n",
    "        \n",
    "        filter_shape = [filter_size, embedding_size, 1, num_filters]\n",
    "        \n",
    "        w = tf.Variable(tf.truncated_normal(filter_shape,stddev = 0.05), name = \"w\")\n",
    "        b = tf.Variable(tf.truncated_normal([num_filters], stddev = 0.05), name = \"b\")\n",
    "            \n",
    "        conv = tf.nn.conv2d(\n",
    "            data,\n",
    "            w,\n",
    "            strides = [1,1,1,1],\n",
    "            padding = \"VALID\",\n",
    "            name = \"conv\"\n",
    "        )\n",
    "        h = tf.nn.relu(tf.nn.bias_add(conv, b), name = \"relu\")\n",
    "        pooled = tf.nn.max_pool(\n",
    "            h,\n",
    "            ksize = [1, sequence_length - filter_size + 1, 1, 1],\n",
    "            strides = [1,1,1,1],\n",
    "            padding = \"VALID\",\n",
    "            name = \"pool\"\n",
    "        )\n",
    "        \n",
    "        pooled_outputs.append(pooled)\n",
    "    \n",
    "    #return pooled_outputs\n",
    "    h_pool = tf.concat(pooled_outputs, 3)\n",
    "    h_pool_flat = tf.reshape(h_pool, [-1, num_filters_total])\n",
    "    return h_pool_flat"
   ]
  },
  {
   "cell_type": "code",
   "execution_count": 116,
   "metadata": {},
   "outputs": [],
   "source": [
    "h_pool_flat = CNN(embedded_chars_expanded)\n",
    "h_drop = tf.nn.dropout(h_pool_flat, dropout_keep_prob)"
   ]
  },
  {
   "cell_type": "code",
   "execution_count": 117,
   "metadata": {},
   "outputs": [],
   "source": [
    "#In the first dense layer, reduce the node to half.\n",
    "wd1 = tf.Variable(tf.truncated_normal([num_filters_total, int(num_filters_total/2)], stddev=0.05), name = \"wd1\")\n",
    "bd1 = tf.Variable(tf.truncated_normal([int(num_filters_total/2)], stddev = 0.05), name = \"bd1\")\n",
    "layer1 = tf.nn.xw_plus_b(h_drop, wd1, bd1, name = 'layer1') # Do wd1*h_drop + bd1\n",
    "layer1 = tf.nn.relu(layer1)"
   ]
  },
  {
   "cell_type": "code",
   "execution_count": 118,
   "metadata": {},
   "outputs": [],
   "source": [
    "#Second dense layer, reduce the outputs to 6.\n",
    "wd2 = tf.Variable(tf.truncated_normal([int(num_filters_total/2),6], stddev = 0.05), name = 'wd2')\n",
    "bd2 = tf.Variable(tf.truncated_normal([6], stddev = 0.05), name = \"bd2\")\n",
    "layer2 = tf.nn.xw_plus_b(layer1, wd2, bd2, name = 'layer2') \n",
    "prediction = tf.nn.sigmoid(layer2)# Make it to be 0-1.\n",
    "#pred_clipped = tf.clip_by_value(prediction, 1e-10, 0.9999999) \n",
    "#For some special loss function clip is necessary. Like log(x)."
   ]
  },
  {
   "cell_type": "code",
   "execution_count": 119,
   "metadata": {},
   "outputs": [],
   "source": [
    "loss = tf.reduce_mean(tf.nn.sigmoid_cross_entropy_with_logits(logits = layer2, labels = input_y))\n",
    "optimizer = tf.train.AdamOptimizer(learning_rate = 0.0007).minimize(loss)\n",
    "#when learning rate set to 0.0007, the mean of threat is not 0, but when it is 0.001, it becomes 0 again.\n",
    "#Learning rates usually is small for CNN compared with pure neural network. \n",
    "#Need to define a approriate learning rate before you run on the whole dataset.\n",
    "accuracy = tf.reduce_mean(tf.cast(tf.equal(tf.round(prediction), input_y), tf.float32))\n",
    "#correct_prediction = tf.equal(tf.argmax(input_y, 1), tf.argmax(prediction, 1))\n",
    "#accuracy = tf.reduce_mean(tf.cast(correct_prediction, tf.float32))"
   ]
  },
  {
   "cell_type": "code",
   "execution_count": 120,
   "metadata": {},
   "outputs": [],
   "source": [
    "#Define batch generation function.\n",
    "def generate_batch(data, batch_size, num_epochs, shuffle=True):\n",
    "    data = np.array(data)\n",
    "    data_size = len(data)\n",
    "    num_batches_per_epoch = int((len(data)-1)/batch_size) + 1\n",
    "    l = 0\n",
    "    for epoch in range(num_epochs):\n",
    "        l += 1\n",
    "        if shuffle:\n",
    "            shuffle_indices = np.random.permutation(np.arange(data_size))\n",
    "            shuffled_data = data[shuffle_indices]\n",
    "        else:\n",
    "            shuffled_data = data\n",
    "        for batch_num in range(num_batches_per_epoch):\n",
    "            start_index = batch_num * batch_size\n",
    "            end_index = min((batch_num + 1) * batch_size, data_size)\n",
    "            yield shuffled_data[start_index:end_index]"
   ]
  },
  {
   "cell_type": "code",
   "execution_count": 121,
   "metadata": {},
   "outputs": [],
   "source": [
    "#For Test data. Can use generate_batch function.\n",
    "def blocks(data, block_size):\n",
    "    data = np.array(data)\n",
    "    data_size = len(data)\n",
    "    nums = int((data_size-1)/block_size) + 1\n",
    "    for block_num in range(nums):\n",
    "        if block_num == 0:\n",
    "            print(\"prediction start!\")\n",
    "        start_index = block_num * block_size\n",
    "        end_index = min((block_num + 1) * block_size, data_size)\n",
    "        yield data[start_index:end_index]"
   ]
  },
  {
   "cell_type": "markdown",
   "metadata": {},
   "source": [
    "**Blocks and Batches**"
   ]
  },
  {
   "cell_type": "code",
   "execution_count": 125,
   "metadata": {},
   "outputs": [
    {
     "data": {
      "text/plain": [
       "Index(['age', 'body', 'class', 'disability', 'gender', 'immigration',\n",
       "       'mental health', 'race', 'religion', 'sexual assault', 'sexuality'],\n",
       "      dtype='object')"
      ]
     },
     "execution_count": 125,
     "metadata": {},
     "output_type": "execute_result"
    }
   ],
   "source": [
    "train_labels.columns"
   ]
  },
  {
   "cell_type": "code",
   "execution_count": 126,
   "metadata": {},
   "outputs": [],
   "source": [
    "batch1 = generate_batch(list(zip(np.array(train.text), train_labels['age'], train_labels['body'], train_labels['class'], train_labels['disability'], train_labels['gender'], train_labels['immigration'], train_labels['mental health'], train_labels['race'], train_labels['sexual assault'], train_labels['immigration'], train_labels['sexuality'])), batch_size, 1)"
   ]
  },
  {
   "cell_type": "code",
   "execution_count": 127,
   "metadata": {},
   "outputs": [],
   "source": [
    "batch2 = generate_batch(list(zip(np.array(train.text), train_labels['age'], train_labels['body'], train_labels['class'], train_labels['disability'], train_labels['gender'], train_labels['immigration'], train_labels['mental health'], train_labels['race'], train_labels['sexual assault'], train_labels['immigration'], train_labels['sexuality'])), batch_size, 1)"
   ]
  },
  {
   "cell_type": "code",
   "execution_count": 128,
   "metadata": {},
   "outputs": [],
   "source": [
    "batch3 = generate_batch(list(zip(np.array(train.text), train_labels['age'], train_labels['body'], train_labels['class'], train_labels['disability'], train_labels['gender'], train_labels['immigration'], train_labels['mental health'], train_labels['race'], train_labels['sexual assault'], train_labels['immigration'], train_labels['sexuality'])), batch_size, 1)"
   ]
  },
  {
   "cell_type": "code",
   "execution_count": 129,
   "metadata": {},
   "outputs": [],
   "source": [
    "batch4 = generate_batch(list(zip(np.array(train.text), train_labels['age'], train_labels['body'], train_labels['class'], train_labels['disability'], train_labels['gender'], train_labels['immigration'], train_labels['mental health'], train_labels['race'], train_labels['sexual assault'], train_labels['immigration'], train_labels['sexuality'])), batch_size, 1)"
   ]
  },
  {
   "cell_type": "code",
   "execution_count": 130,
   "metadata": {},
   "outputs": [],
   "source": [
    "batch5 = generate_batch(list(zip(np.array(train.text), train_labels['age'], train_labels['body'], train_labels['class'], train_labels['disability'], train_labels['gender'], train_labels['immigration'], train_labels['mental health'], train_labels['race'], train_labels['sexual assault'], train_labels['immigration'], train_labels['sexuality'])), batch_size, 1)"
   ]
  },
  {
   "cell_type": "code",
   "execution_count": 131,
   "metadata": {},
   "outputs": [],
   "source": [
    "batch6 = generate_batch(list(zip(np.array(train.text), train_labels['age'], train_labels['body'], train_labels['class'], train_labels['disability'], train_labels['gender'], train_labels['immigration'], train_labels['mental health'], train_labels['race'], train_labels['sexual assault'], train_labels['immigration'], train_labels['sexuality'])), batch_size, 1)"
   ]
  },
  {
   "cell_type": "code",
   "execution_count": 132,
   "metadata": {},
   "outputs": [],
   "source": [
    "batch7 = generate_batch(list(zip(np.array(train.text), train_labels['age'], train_labels['body'], train_labels['class'], train_labels['disability'], train_labels['gender'], train_labels['immigration'], train_labels['mental health'], train_labels['race'], train_labels['sexual assault'], train_labels['immigration'], train_labels['sexuality'])), batch_size, 1)"
   ]
  },
  {
   "cell_type": "code",
   "execution_count": 133,
   "metadata": {},
   "outputs": [],
   "source": [
    "batch_bag = [batch1,batch2,batch3,batch4,batch5,batch6,batch7]"
   ]
  },
  {
   "cell_type": "code",
   "execution_count": 134,
   "metadata": {},
   "outputs": [],
   "source": [
    "test_blocks = blocks(list(np.array(test_x)), 1000)"
   ]
  },
  {
   "cell_type": "code",
   "execution_count": 145,
   "metadata": {},
   "outputs": [
    {
     "data": {
      "text/plain": [
       "[array([[list([23, 5, 22, 97, 1654, 15, 235, 292, 21, 1674, 624, 40, 2087, 622, 530, 134, 1654, 13, 600, 30, 5, 6, 84, 1053, 834, 15, 53, 13, 280, 580, 287, 145, 1053, 1, 2, 2235, 32, 278, 3364, 3630]),\n",
       "         0, 0, 0, 0, 1, 0, 0, 1, 0, 0, 0],\n",
       "        [list([30, 310, 363, 8, 199, 65, 9, 1051, 3242, 1333, 70, 26, 1347]),\n",
       "         0, 0, 0, 0, 0, 0, 0, 1, 0, 0, 0],\n",
       "        [list([7, 15, 918, 13, 1135, 613, 38, 74, 918, 728]), 0, 0, 0, 1,\n",
       "         0, 0, 0, 0, 0, 0, 0],\n",
       "        [list([6, 158, 575, 2367, 114, 220, 860, 153, 11, 120, 302, 11, 59, 460, 240, 307, 48]),\n",
       "         0, 0, 0, 0, 1, 0, 0, 1, 1, 0, 0],\n",
       "        [list([143, 16, 106, 403, 8, 78, 589, 133, 21, 1921, 739, 1664, 116, 107, 638, 59, 81, 1, 1047, 13, 133, 241, 1780, 17, 50, 334, 1780, 1587, 69, 42, 74, 1780, 3, 232, 2485, 74, 334, 17, 50, 838, 409, 1121, 150, 21, 49, 130, 157, 4, 1780, 336, 435, 1072, 4, 852, 1108, 403, 126, 1177, 268, 316, 96, 120, 217, 4]),\n",
       "         0, 0, 0, 0, 0, 0, 0, 1, 0, 0, 0],\n",
       "        [list([3, 979, 573, 11, 1422, 209, 87, 8, 164, 34, 1127, 825, 64, 3, 1478, 22, 1146, 34, 8, 68, 7]),\n",
       "         0, 0, 0, 0, 0, 0, 0, 0, 0, 0, 1],\n",
       "        [list([40, 25, 875, 544, 12, 817, 817, 448, 64, 3, 12, 6, 621, 316, 1349, 623, 1090, 817, 306, 9, 41, 117, 817, 751, 128, 535]),\n",
       "         0, 0, 0, 0, 0, 0, 0, 1, 0, 0, 0],\n",
       "        [list([245, 507, 464, 283, 116, 10, 111, 37, 33, 474, 3, 23, 6, 666, 160, 215, 83, 513, 231, 290, 39]),\n",
       "         0, 0, 0, 0, 1, 0, 0, 1, 0, 0, 0],\n",
       "        [list([259, 706, 343, 1632, 5, 1427, 2787, 36, 30, 615, 5, 124, 1042]),\n",
       "         0, 0, 0, 0, 1, 0, 0, 1, 0, 0, 0],\n",
       "        [list([380, 550, 382, 1998, 80, 15, 27, 138, 184, 65, 604, 202, 16, 180, 1, 2, 478, 175, 617]),\n",
       "         0, 0, 0, 0, 1, 0, 0, 0, 0, 0, 0],\n",
       "        [list([6, 1578, 29, 1661, 961, 135, 908, 9, 479, 662]), 0, 0, 0,\n",
       "         0, 1, 0, 0, 0, 0, 0, 0],\n",
       "        [list([2745, 1, 59, 126, 118, 131, 367, 513, 43, 2745]), 0, 0, 0,\n",
       "         0, 0, 0, 0, 1, 0, 0, 0],\n",
       "        [list([79, 211, 14, 61, 2037, 82, 757, 705, 1304, 40, 162, 2623, 45, 5, 96, 2623, 1958, 96, 2971, 2144, 891, 41, 1316, 464, 109, 576, 304, 3458, 21, 1, 2, 3, 41, 117, 1301, 109, 576, 464]),\n",
       "         0, 0, 0, 0, 0, 0, 0, 1, 0, 0, 0],\n",
       "        [list([36, 131, 301, 77, 20, 1153, 34, 3510, 18, 769, 902, 14, 69, 131, 457, 49, 1800, 196, 449, 384, 20, 1403, 70, 26, 50, 128, 29, 1, 2, 324, 436, 7, 80, 2, 1116, 563, 237, 608, 913, 284]),\n",
       "         0, 0, 0, 0, 1, 0, 0, 0, 0, 0, 1],\n",
       "        [list([12, 35, 5, 60, 40, 12, 144, 285, 1159, 492, 2574, 123, 162, 170]),\n",
       "         0, 0, 0, 0, 0, 0, 0, 1, 0, 0, 0],\n",
       "        [list([9, 7, 2923, 399, 25, 10, 25, 11, 1, 71, 1627, 55, 4, 323, 752, 1, 2, 228, 857, 32]),\n",
       "         0, 0, 0, 0, 1, 0, 0, 0, 0, 0, 0],\n",
       "        [list([212, 37, 1, 596, 305, 8, 545, 36, 13, 241, 3622, 55, 1, 2, 439, 9, 2147, 2141, 988, 1, 2, 2548, 857]),\n",
       "         0, 0, 0, 0, 1, 0, 0, 0, 0, 0, 0],\n",
       "        [list([1523, 1749, 494, 249, 146]), 0, 0, 0, 0, 0, 0, 0, 1, 0, 0,\n",
       "         0],\n",
       "        [list([171, 164, 488, 171, 292, 56, 78, 171, 401, 1905, 351, 3275, 78, 5, 30, 152, 650, 171, 164, 46, 1354, 314, 58, 127, 317]),\n",
       "         0, 0, 0, 0, 0, 0, 0, 1, 0, 0, 0],\n",
       "        [list([339, 1695, 256, 49, 145, 1906, 156, 297, 1906, 145, 12, 6, 1622, 254, 145, 119, 1148, 145, 175, 1997, 1091, 5, 25, 659, 1164, 31, 1, 2, 3, 294, 1026, 216, 847, 73, 354, 31, 2122, 113, 99, 382, 1622, 155, 714]),\n",
       "         0, 0, 0, 0, 1, 0, 0, 1, 0, 0, 0],\n",
       "        [list([74, 63, 1, 175, 598, 1820, 27, 111, 8, 219, 33, 6, 1, 2, 3, 111, 253, 113]),\n",
       "         0, 0, 0, 0, 0, 0, 0, 1, 0, 0, 0],\n",
       "        [list([16, 420, 375, 29, 94, 807, 214, 619, 18, 29, 316, 443, 6, 525, 13, 449, 206, 6, 629]),\n",
       "         0, 0, 0, 0, 1, 0, 0, 0, 0, 0, 0],\n",
       "        [list([54, 515, 18, 79, 127, 1467, 371, 82, 384, 1408, 254, 2489, 982, 6, 1, 224, 32, 1356]),\n",
       "         0, 0, 0, 0, 1, 0, 0, 0, 0, 0, 0],\n",
       "        [list([1, 753, 56, 255, 59, 192, 1, 56, 2, 3, 22, 3, 133, 16, 23]),\n",
       "         0, 0, 0, 0, 1, 0, 0, 0, 0, 0, 0],\n",
       "        [list([24, 17, 1700, 90, 12, 22, 17, 1271, 356, 52, 20, 72, 5, 3059, 1271, 2928, 4, 258, 1, 1199, 432, 2037]),\n",
       "         0, 0, 1, 0, 0, 0, 0, 1, 0, 0, 0],\n",
       "        [list([146, 417, 13, 1582, 1124, 98, 269, 2701, 13, 269, 68, 63, 2701, 357, 333, 482, 1, 2, 2702, 142, 32, 1583, 1249]),\n",
       "         0, 0, 0, 0, 0, 0, 1, 0, 0, 0, 0],\n",
       "        [list([21, 146, 495, 1465, 541, 495, 87, 257, 4, 448, 257, 198, 132, 4, 303, 257, 2, 196, 15, 208, 69, 129, 258, 217, 11, 155, 408, 290, 1571, 98, 335]),\n",
       "         0, 0, 0, 0, 0, 0, 0, 0, 0, 0, 1],\n",
       "        [list([339, 429, 1600, 1297, 1298, 311, 249]), 0, 0, 0, 0, 1, 0,\n",
       "         0, 1, 0, 0, 0],\n",
       "        [list([14, 62, 578, 118, 342, 1478, 2208, 342, 300, 3, 123, 646, 10, 2180, 65, 235, 504, 646, 300, 67, 66, 436, 2121, 235, 123, 646, 10, 965, 165, 2312, 2312, 60, 4, 939, 60, 4, 938, 10, 4, 430, 215, 60, 2312, 161]),\n",
       "         0, 0, 0, 1, 0, 0, 0, 0, 0, 0, 0],\n",
       "        [list([437, 76, 468, 41, 165, 19, 1308, 8, 20, 1774, 2437, 394, 287, 1095, 468, 64, 142, 407]),\n",
       "         0, 0, 0, 0, 0, 0, 0, 1, 0, 0, 0],\n",
       "        [list([598, 7, 9, 12, 506, 195, 21, 47, 5, 18, 89, 510, 5, 7]), 0,\n",
       "         0, 1, 0, 0, 0, 0, 1, 0, 0, 0],\n",
       "        [list([21, 991, 286, 100, 1, 1290, 199, 66, 65, 1, 1290, 2468, 14, 619, 286, 4, 63, 82, 2204, 140, 634, 15, 11, 151, 987, 599, 208, 73, 10, 85, 1332, 101, 296]),\n",
       "         0, 0, 0, 0, 1, 0, 0, 0, 0, 0, 0],\n",
       "        [list([1342, 286, 21, 19, 90, 11, 9, 116, 1342, 286, 30, 50, 21, 1651]),\n",
       "         0, 0, 0, 0, 0, 0, 0, 1, 0, 0, 0],\n",
       "        [list([47, 49, 646, 181, 47, 410, 646, 769, 441]), 0, 1, 0, 1, 0,\n",
       "         0, 0, 0, 0, 0, 0],\n",
       "        [list([1055, 3, 57, 217, 3, 54, 92, 492, 283, 56, 129, 166, 6, 1091, 509, 483, 392, 2686, 1040, 72, 650, 108, 1615, 54, 92, 492, 283, 217]),\n",
       "         0, 0, 0, 0, 1, 0, 0, 0, 0, 0, 0],\n",
       "        [list([101, 1022, 129, 5, 18, 1405, 1596, 2581, 190, 389, 585, 44, 52, 71, 488, 9, 523, 3]),\n",
       "         0, 0, 0, 0, 1, 0, 0, 1, 0, 0, 0],\n",
       "        [list([31, 44, 186, 50, 424, 559, 1637, 186, 688, 1318, 181, 186, 1738, 66, 836, 186, 42, 568, 1368, 186, 63, 2653, 2105, 186, 371, 19, 1481, 477, 247, 333, 1079, 186, 19, 41, 759, 68, 1419, 514, 11, 1738, 3634, 143, 2687, 36, 182, 28, 195, 31, 529]),\n",
       "         0, 0, 0, 0, 0, 0, 0, 0, 0, 0, 1],\n",
       "        [list([473, 607, 2231, 1235, 1807, 790, 1437, 1162, 7, 52, 523, 381, 387, 553, 288, 288, 4, 3191, 63, 102, 288, 313, 1162, 7, 631, 783, 545, 7, 234, 3435, 75, 989, 218, 6, 989]),\n",
       "         0, 0, 0, 0, 1, 0, 0, 0, 0, 0, 1],\n",
       "        [list([3, 3557, 209, 75, 1034, 221, 2209, 1280, 132, 1220, 146, 3612, 62, 52, 1423, 357, 675, 3612, 904, 1022, 1520, 1733]),\n",
       "         0, 0, 0, 0, 1, 0, 0, 0, 0, 0, 0],\n",
       "        [list([90, 12, 6, 203, 1152, 546, 37, 195, 90, 5, 10, 11, 9, 9, 795, 229, 19, 209, 49, 37, 203, 83, 748, 269, 1152, 443, 11]),\n",
       "         0, 0, 0, 0, 0, 0, 0, 1, 0, 0, 0],\n",
       "        [list([21, 758, 157, 11, 875, 6, 200, 168, 908, 21, 1302, 313, 21, 489, 1585, 1, 2, 32, 310, 860, 692, 950, 2, 6, 200, 522, 759, 1049, 648, 462, 615, 366, 1122]),\n",
       "         0, 0, 0, 0, 1, 0, 0, 0, 1, 0, 1],\n",
       "        [list([37, 1411, 19, 111, 199, 109, 21, 1084, 736, 3127, 108, 8, 1, 2, 3, 14, 204, 119, 636]),\n",
       "         0, 0, 0, 1, 1, 0, 0, 0, 0, 0, 0],\n",
       "        [list([311, 25, 409, 309, 152, 309, 8, 14, 141, 309, 15, 311, 25, 19, 3]),\n",
       "         0, 0, 0, 0, 0, 0, 0, 0, 0, 0, 0],\n",
       "        [list([10, 35, 3616, 97, 370, 255, 1052, 463, 4, 4, 429, 17, 3147, 955, 575, 1920, 103, 230, 157, 3645, 1, 2, 229, 278]),\n",
       "         0, 0, 0, 0, 0, 0, 0, 1, 0, 0, 0],\n",
       "        [list([247, 6, 1, 366, 1802, 45, 45, 294, 1599, 1, 254, 397, 22, 21, 656, 1, 2, 1130, 2194]),\n",
       "         0, 0, 0, 0, 1, 0, 0, 0, 1, 0, 0],\n",
       "        [list([49, 14, 23, 5, 6, 71, 60, 418, 215, 83, 205, 328]), 0, 0,\n",
       "         0, 0, 0, 0, 0, 1, 0, 0, 0],\n",
       "        [list([1660, 2949, 597, 12, 11, 123, 80, 27, 253, 145, 113, 99, 63, 1355, 678, 9, 12, 396, 124, 718, 5, 24, 792, 253]),\n",
       "         0, 0, 0, 0, 1, 0, 0, 1, 0, 0, 0],\n",
       "        [list([2, 130, 55, 80, 19, 3, 130, 5, 681, 690, 1425, 104]), 0, 0,\n",
       "         0, 0, 0, 0, 0, 1, 0, 0, 0],\n",
       "        [list([308, 1457, 1521, 1287, 3200, 416, 357, 336, 5, 36, 1127, 1287, 12, 18, 1415, 493, 1521, 3200, 1287, 357, 524, 12, 22, 942, 761, 552, 760, 41, 849, 1621, 41, 117, 258, 302, 85, 2417, 1415, 41, 316, 900, 12, 36, 64, 1751, 66, 229, 142, 238, 3201, 225, 95, 547, 13, 2152, 8, 28, 65, 163, 120, 227, 202, 69, 227, 24, 66, 120]),\n",
       "         0, 0, 0, 0, 0, 0, 0, 1, 0, 0, 0],\n",
       "        [list([472, 89, 145, 14, 772, 297, 933, 594, 739, 14, 115, 1181, 472, 18, 1122, 604, 2212, 2480, 89, 735, 288, 772, 36, 1480, 651, 316, 89, 182, 1714, 390]),\n",
       "         0, 0, 0, 0, 1, 0, 0, 0, 1, 0, 0],\n",
       "        [list([2580, 2234, 49, 49, 926, 231, 452, 113, 98, 3137, 450, 1399, 125, 31, 968, 2014, 7, 58, 344]),\n",
       "         0, 0, 0, 0, 0, 0, 0, 1, 0, 0, 0],\n",
       "        [list([301, 229, 2192, 7, 9, 13, 711, 2778, 91, 36, 129, 37, 197, 14, 10, 242, 36, 17, 18, 101, 1419, 514, 1, 2, 3, 1146, 869]),\n",
       "         0, 0, 0, 0, 1, 0, 0, 0, 0, 0, 0],\n",
       "        [list([447, 464, 90, 6, 523, 321, 19, 666, 160, 1, 114, 123, 10]),\n",
       "         0, 0, 0, 0, 1, 0, 0, 0, 0, 0, 0],\n",
       "        [list([26, 905, 176, 1776, 77, 17, 1708, 1708, 1776, 45, 10, 11, 861, 21, 232, 10, 861, 2259, 45, 52, 62, 20, 255, 91, 2601, 3328, 1760, 1, 2, 1067, 123, 636, 3, 75, 936, 1235, 3609, 2524, 1226, 110, 2516, 2464, 72, 501, 232, 861, 221, 50]),\n",
       "         0, 0, 0, 0, 1, 0, 0, 0, 0, 0, 0],\n",
       "        [list([14, 275, 11, 1697, 278, 138, 115, 96, 3, 275, 329, 96, 527, 69, 880, 275, 722, 1442, 1104, 31, 275, 480, 134, 159, 880, 275, 104, 722]),\n",
       "         0, 0, 0, 0, 0, 0, 0, 0, 0, 0, 0],\n",
       "        [list([363, 177, 4, 118, 700, 138, 508, 210, 2008, 20, 1037, 7, 150, 336, 450, 68, 81]),\n",
       "         0, 0, 0, 0, 0, 0, 0, 1, 0, 0, 0],\n",
       "        [list([267, 8, 343, 630, 3, 1389, 1743, 3, 948, 1743, 1845, 374, 74, 125, 36, 8, 133, 374, 452, 1743, 377, 217, 345, 36, 252, 1213, 545, 64, 3, 324, 157, 648, 430, 778]),\n",
       "         0, 0, 0, 0, 1, 0, 0, 0, 0, 0, 0]], dtype=object)]"
      ]
     },
     "execution_count": 145,
     "metadata": {},
     "output_type": "execute_result"
    }
   ],
   "source": [
    "[i for i in batch1]"
   ]
  },
  {
   "cell_type": "code",
   "execution_count": 144,
   "metadata": {},
   "outputs": [
    {
     "name": "stdout",
     "output_type": "stream",
     "text": [
      "Epoch: 1 start!\n"
     ]
    },
    {
     "ename": "ValueError",
     "evalue": "Cannot feed value of shape (256, 75) for Tensor 'input_x:0', which has shape '(?, 170)'",
     "output_type": "error",
     "traceback": [
      "\u001b[0;31m---------------------------------------------------------------------------\u001b[0m",
      "\u001b[0;31mValueError\u001b[0m                                Traceback (most recent call last)",
      "\u001b[0;32m<ipython-input-144-f606cf7c96c9>\u001b[0m in \u001b[0;36m<module>\u001b[0;34m()\u001b[0m\n\u001b[1;32m     14\u001b[0m             \u001b[0mx_batch\u001b[0m \u001b[0;34m=\u001b[0m \u001b[0mpd\u001b[0m\u001b[0;34m.\u001b[0m\u001b[0mDataFrame\u001b[0m\u001b[0;34m(\u001b[0m\u001b[0mlist\u001b[0m\u001b[0;34m(\u001b[0m\u001b[0mbatch\u001b[0m\u001b[0;34m[\u001b[0m\u001b[0;34m'text'\u001b[0m\u001b[0;34m]\u001b[0m\u001b[0;34m)\u001b[0m\u001b[0;34m)\u001b[0m\u001b[0;34m\u001b[0m\u001b[0m\n\u001b[1;32m     15\u001b[0m             \u001b[0my_batch\u001b[0m \u001b[0;34m=\u001b[0m \u001b[0mbatch\u001b[0m\u001b[0;34m.\u001b[0m\u001b[0mloc\u001b[0m\u001b[0;34m[\u001b[0m\u001b[0;34m:\u001b[0m\u001b[0;34m,\u001b[0m \u001b[0mbatch\u001b[0m\u001b[0;34m.\u001b[0m\u001b[0mcolumns\u001b[0m \u001b[0;34m!=\u001b[0m \u001b[0;34m'text'\u001b[0m\u001b[0;34m]\u001b[0m\u001b[0;34m\u001b[0m\u001b[0m\n\u001b[0;32m---> 16\u001b[0;31m             \u001b[0m_\u001b[0m\u001b[0;34m,\u001b[0m\u001b[0mc\u001b[0m\u001b[0;34m,\u001b[0m \u001b[0macc\u001b[0m \u001b[0;34m=\u001b[0m \u001b[0msess\u001b[0m\u001b[0;34m.\u001b[0m\u001b[0mrun\u001b[0m\u001b[0;34m(\u001b[0m\u001b[0;34m[\u001b[0m\u001b[0moptimizer\u001b[0m\u001b[0;34m,\u001b[0m \u001b[0mloss\u001b[0m\u001b[0;34m,\u001b[0m \u001b[0maccuracy\u001b[0m\u001b[0;34m]\u001b[0m\u001b[0;34m,\u001b[0m\u001b[0mfeed_dict\u001b[0m \u001b[0;34m=\u001b[0m \u001b[0;34m{\u001b[0m\u001b[0minput_x\u001b[0m\u001b[0;34m:\u001b[0m \u001b[0mx_batch\u001b[0m\u001b[0;34m,\u001b[0m \u001b[0minput_y\u001b[0m\u001b[0;34m:\u001b[0m \u001b[0my_batch\u001b[0m\u001b[0;34m}\u001b[0m\u001b[0;34m)\u001b[0m\u001b[0;34m\u001b[0m\u001b[0m\n\u001b[0m\u001b[1;32m     17\u001b[0m             \u001b[0mavg_loss\u001b[0m \u001b[0;34m+=\u001b[0m \u001b[0mc\u001b[0m\u001b[0;34m\u001b[0m\u001b[0m\n\u001b[1;32m     18\u001b[0m             \u001b[0mavg_acc\u001b[0m \u001b[0;34m+=\u001b[0m \u001b[0macc\u001b[0m\u001b[0;34m\u001b[0m\u001b[0m\n",
      "\u001b[0;32m/Library/Frameworks/Python.framework/Versions/3.6/lib/python3.6/site-packages/tensorflow/python/client/session.py\u001b[0m in \u001b[0;36mrun\u001b[0;34m(self, fetches, feed_dict, options, run_metadata)\u001b[0m\n\u001b[1;32m    898\u001b[0m     \u001b[0;32mtry\u001b[0m\u001b[0;34m:\u001b[0m\u001b[0;34m\u001b[0m\u001b[0m\n\u001b[1;32m    899\u001b[0m       result = self._run(None, fetches, feed_dict, options_ptr,\n\u001b[0;32m--> 900\u001b[0;31m                          run_metadata_ptr)\n\u001b[0m\u001b[1;32m    901\u001b[0m       \u001b[0;32mif\u001b[0m \u001b[0mrun_metadata\u001b[0m\u001b[0;34m:\u001b[0m\u001b[0;34m\u001b[0m\u001b[0m\n\u001b[1;32m    902\u001b[0m         \u001b[0mproto_data\u001b[0m \u001b[0;34m=\u001b[0m \u001b[0mtf_session\u001b[0m\u001b[0;34m.\u001b[0m\u001b[0mTF_GetBuffer\u001b[0m\u001b[0;34m(\u001b[0m\u001b[0mrun_metadata_ptr\u001b[0m\u001b[0;34m)\u001b[0m\u001b[0;34m\u001b[0m\u001b[0m\n",
      "\u001b[0;32m/Library/Frameworks/Python.framework/Versions/3.6/lib/python3.6/site-packages/tensorflow/python/client/session.py\u001b[0m in \u001b[0;36m_run\u001b[0;34m(self, handle, fetches, feed_dict, options, run_metadata)\u001b[0m\n\u001b[1;32m   1109\u001b[0m                              \u001b[0;34m'which has shape %r'\u001b[0m \u001b[0;34m%\u001b[0m\u001b[0;34m\u001b[0m\u001b[0m\n\u001b[1;32m   1110\u001b[0m                              (np_val.shape, subfeed_t.name,\n\u001b[0;32m-> 1111\u001b[0;31m                               str(subfeed_t.get_shape())))\n\u001b[0m\u001b[1;32m   1112\u001b[0m           \u001b[0;32mif\u001b[0m \u001b[0;32mnot\u001b[0m \u001b[0mself\u001b[0m\u001b[0;34m.\u001b[0m\u001b[0mgraph\u001b[0m\u001b[0;34m.\u001b[0m\u001b[0mis_feedable\u001b[0m\u001b[0;34m(\u001b[0m\u001b[0msubfeed_t\u001b[0m\u001b[0;34m)\u001b[0m\u001b[0;34m:\u001b[0m\u001b[0;34m\u001b[0m\u001b[0m\n\u001b[1;32m   1113\u001b[0m             \u001b[0;32mraise\u001b[0m \u001b[0mValueError\u001b[0m\u001b[0;34m(\u001b[0m\u001b[0;34m'Tensor %s may not be fed.'\u001b[0m \u001b[0;34m%\u001b[0m \u001b[0msubfeed_t\u001b[0m\u001b[0;34m)\u001b[0m\u001b[0;34m\u001b[0m\u001b[0m\n",
      "\u001b[0;31mValueError\u001b[0m: Cannot feed value of shape (256, 75) for Tensor 'input_x:0', which has shape '(?, 170)'"
     ]
    }
   ],
   "source": [
    "init_op = tf.global_variables_initializer()\n",
    "\n",
    "with tf.Session() as sess:\n",
    "    \n",
    "    sess.run(init_op)\n",
    "    i = 0\n",
    "    for batches in batch_bag:\n",
    "        i += 1\n",
    "        print('Epoch: ' + str(i) + ' start!')\n",
    "        avg_acc = 0\n",
    "        avg_loss = 0\n",
    "        for batch in batches:\n",
    "            batch = pd.DataFrame(batch, columns = ['text', 'age', 'body', 'class', 'disability', 'gender', 'immigration', 'mental health', 'race', 'religion', 'sexual assault', 'sexuality'])\n",
    "            x_batch = pd.DataFrame(list(batch['text']))\n",
    "            y_batch = batch.loc[:, batch.columns != 'text']\n",
    "            _,c, acc = sess.run([optimizer, loss, accuracy],feed_dict = {input_x: x_batch, input_y: y_batch})\n",
    "            avg_loss += c\n",
    "            avg_acc += acc\n",
    "        avg_loss = avg_loss/624\n",
    "        avg_acc = avg_acc/624\n",
    "        print('Epoch:' + str(i) + ' loss is ' + str(avg_loss) + ', train accuracy is ' + str(avg_acc))\n",
    "        #print('Evaluation Accuracy: ')\n",
    "        #print(accuracy.eval({input_x: val_x, input_y: yval}))\n",
    "    \n",
    "    print('Training Finish!')\n",
    "    \n",
    "    df = pd.DataFrame()\n",
    "    for block in test_blocks:\n",
    "        block = pd.DataFrame(block)\n",
    "        pred = sess.run(prediction, feed_dict = {input_x: block})\n",
    "        df = df.append(pd.DataFrame(pred))\n",
    "    \n",
    "    print('Prediction Finish!')"
   ]
  },
  {
   "cell_type": "code",
   "execution_count": null,
   "metadata": {},
   "outputs": [],
   "source": [
    "df.round().mean()"
   ]
  }
 ],
 "metadata": {
  "kernelspec": {
   "display_name": "Python 3",
   "language": "python",
   "name": "python3"
  },
  "language_info": {
   "codemirror_mode": {
    "name": "ipython",
    "version": 3
   },
   "file_extension": ".py",
   "mimetype": "text/x-python",
   "name": "python",
   "nbconvert_exporter": "python",
   "pygments_lexer": "ipython3",
   "version": "3.6.4"
  }
 },
 "nbformat": 4,
 "nbformat_minor": 2
}
